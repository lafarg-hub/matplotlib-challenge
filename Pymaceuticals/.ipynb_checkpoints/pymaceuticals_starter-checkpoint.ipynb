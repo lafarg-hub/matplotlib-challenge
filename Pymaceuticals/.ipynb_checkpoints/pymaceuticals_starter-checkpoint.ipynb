{
 "cells": [
  {
   "cell_type": "markdown",
   "metadata": {},
   "source": [
    "## Observations and Insights"
   ]
  },
  {
   "cell_type": "markdown",
   "metadata": {},
   "source": []
  },
  {
   "cell_type": "markdown",
   "metadata": {},
   "source": [
    "## Dependencies and starter code"
   ]
  },
  {
   "cell_type": "code",
   "execution_count": 2,
   "metadata": {},
   "outputs": [],
   "source": [
    "# Dependencies and Setup\n",
    "import matplotlib.pyplot as plt\n",
    "import pandas as pd\n",
    "import scipy.stats as st\n",
    "import numpy as np\n",
    "\n",
    "# Study data files\n",
    "mouse_metadata = \"data/Mouse_metadata.csv\"\n",
    "study_results = \"data/Study_results.csv\"\n",
    "\n",
    "# Read the mouse data and the study results\n",
    "mouse_metadata = pd.read_csv(mouse_metadata)\n",
    "study_results = pd.read_csv(study_results)\n",
    "\n",
    "# Combine the data into a single dataset\n",
    "merged_df = pd.merge(mouse_metadata, study_results, on = \"Mouse ID\", how = \"outer\")"
   ]
  },
  {
   "cell_type": "markdown",
   "metadata": {},
   "source": [
    "## Summary statistics"
   ]
  },
  {
   "cell_type": "code",
   "execution_count": 3,
   "metadata": {},
   "outputs": [
    {
     "data": {
      "text/html": [
       "<div>\n",
       "<style scoped>\n",
       "    .dataframe tbody tr th:only-of-type {\n",
       "        vertical-align: middle;\n",
       "    }\n",
       "\n",
       "    .dataframe tbody tr th {\n",
       "        vertical-align: top;\n",
       "    }\n",
       "\n",
       "    .dataframe thead th {\n",
       "        text-align: right;\n",
       "    }\n",
       "</style>\n",
       "<table border=\"1\" class=\"dataframe\">\n",
       "  <thead>\n",
       "    <tr style=\"text-align: right;\">\n",
       "      <th></th>\n",
       "      <th>Mean</th>\n",
       "      <th>Median</th>\n",
       "      <th>Variance</th>\n",
       "      <th>St Dev</th>\n",
       "      <th>SEM</th>\n",
       "      <th>Entries</th>\n",
       "    </tr>\n",
       "    <tr>\n",
       "      <th>Drug Regimen</th>\n",
       "      <th></th>\n",
       "      <th></th>\n",
       "      <th></th>\n",
       "      <th></th>\n",
       "      <th></th>\n",
       "      <th></th>\n",
       "    </tr>\n",
       "  </thead>\n",
       "  <tbody>\n",
       "    <tr>\n",
       "      <td>Capomulin</td>\n",
       "      <td>40.675741</td>\n",
       "      <td>41.557809</td>\n",
       "      <td>24.947764</td>\n",
       "      <td>4.994774</td>\n",
       "      <td>0.329346</td>\n",
       "      <td>230</td>\n",
       "    </tr>\n",
       "    <tr>\n",
       "      <td>Ceftamin</td>\n",
       "      <td>52.591172</td>\n",
       "      <td>51.776157</td>\n",
       "      <td>39.290177</td>\n",
       "      <td>6.268188</td>\n",
       "      <td>0.469821</td>\n",
       "      <td>178</td>\n",
       "    </tr>\n",
       "    <tr>\n",
       "      <td>Infubinol</td>\n",
       "      <td>52.884795</td>\n",
       "      <td>51.820584</td>\n",
       "      <td>43.128684</td>\n",
       "      <td>6.567243</td>\n",
       "      <td>0.492236</td>\n",
       "      <td>178</td>\n",
       "    </tr>\n",
       "    <tr>\n",
       "      <td>Ketapril</td>\n",
       "      <td>55.235638</td>\n",
       "      <td>53.698743</td>\n",
       "      <td>68.553577</td>\n",
       "      <td>8.279709</td>\n",
       "      <td>0.603860</td>\n",
       "      <td>188</td>\n",
       "    </tr>\n",
       "    <tr>\n",
       "      <td>Naftisol</td>\n",
       "      <td>54.331565</td>\n",
       "      <td>52.509285</td>\n",
       "      <td>66.173479</td>\n",
       "      <td>8.134708</td>\n",
       "      <td>0.596466</td>\n",
       "      <td>186</td>\n",
       "    </tr>\n",
       "    <tr>\n",
       "      <td>Placebo</td>\n",
       "      <td>54.033581</td>\n",
       "      <td>52.288934</td>\n",
       "      <td>61.168083</td>\n",
       "      <td>7.821003</td>\n",
       "      <td>0.581331</td>\n",
       "      <td>181</td>\n",
       "    </tr>\n",
       "    <tr>\n",
       "      <td>Propriva</td>\n",
       "      <td>52.322552</td>\n",
       "      <td>50.854632</td>\n",
       "      <td>42.351070</td>\n",
       "      <td>6.507770</td>\n",
       "      <td>0.512884</td>\n",
       "      <td>161</td>\n",
       "    </tr>\n",
       "    <tr>\n",
       "      <td>Ramicane</td>\n",
       "      <td>40.216745</td>\n",
       "      <td>40.673236</td>\n",
       "      <td>23.486704</td>\n",
       "      <td>4.846308</td>\n",
       "      <td>0.320955</td>\n",
       "      <td>228</td>\n",
       "    </tr>\n",
       "    <tr>\n",
       "      <td>Stelasyn</td>\n",
       "      <td>54.233149</td>\n",
       "      <td>52.431737</td>\n",
       "      <td>59.450562</td>\n",
       "      <td>7.710419</td>\n",
       "      <td>0.573111</td>\n",
       "      <td>181</td>\n",
       "    </tr>\n",
       "    <tr>\n",
       "      <td>Zoniferol</td>\n",
       "      <td>53.236507</td>\n",
       "      <td>51.818479</td>\n",
       "      <td>48.533355</td>\n",
       "      <td>6.966589</td>\n",
       "      <td>0.516398</td>\n",
       "      <td>182</td>\n",
       "    </tr>\n",
       "  </tbody>\n",
       "</table>\n",
       "</div>"
      ],
      "text/plain": [
       "                   Mean     Median   Variance    St Dev       SEM  Entries\n",
       "Drug Regimen                                                              \n",
       "Capomulin     40.675741  41.557809  24.947764  4.994774  0.329346      230\n",
       "Ceftamin      52.591172  51.776157  39.290177  6.268188  0.469821      178\n",
       "Infubinol     52.884795  51.820584  43.128684  6.567243  0.492236      178\n",
       "Ketapril      55.235638  53.698743  68.553577  8.279709  0.603860      188\n",
       "Naftisol      54.331565  52.509285  66.173479  8.134708  0.596466      186\n",
       "Placebo       54.033581  52.288934  61.168083  7.821003  0.581331      181\n",
       "Propriva      52.322552  50.854632  42.351070  6.507770  0.512884      161\n",
       "Ramicane      40.216745  40.673236  23.486704  4.846308  0.320955      228\n",
       "Stelasyn      54.233149  52.431737  59.450562  7.710419  0.573111      181\n",
       "Zoniferol     53.236507  51.818479  48.533355  6.966589  0.516398      182"
      ]
     },
     "execution_count": 3,
     "metadata": {},
     "output_type": "execute_result"
    }
   ],
   "source": [
    "# Generate a summary statistics table of mean, median, variance, standard deviation, and SEM of the tumor volume for each regimen\n",
    "merged_summary = merged_df.groupby('Drug Regimen')['Tumor Volume (mm3)'].agg(['mean', \n",
    "                                                        'median', 'var', 'std', 'sem', 'count'])\n",
    "merged_summary = merged_summary.rename(columns={\"mean\": \"Mean\", \"median\": \"Median\", \"var\": \"Variance\",\n",
    "                                                \"std\": \"St Dev\", \"sem\": \"SEM\", \"count\": \"Entries\"})\n",
    "merged_summary"
   ]
  },
  {
   "cell_type": "markdown",
   "metadata": {},
   "source": [
    "## Bar plots"
   ]
  },
  {
   "cell_type": "code",
   "execution_count": 4,
   "metadata": {},
   "outputs": [
    {
     "data": {
      "image/png": "[encoded data removed]",
      "text/plain": [
       "<Figure size 432x288 with 1 Axes>"
      ]
     },
     "metadata": {
      "needs_background": "light"
     },
     "output_type": "display_data"
    }
   ],
   "source": [
    "# Generate a bar plot showing number of data points for each treatment regimen using pandas\n",
    "bar_plot = pd.DataFrame({'Drug': merged_summary.index, 'Count':merged_summary['Entries']})\n",
    "axis = bar_plot.plot.bar(x='Drug', y='Count', rot=90)"
   ]
  },
  {
   "cell_type": "code",
   "execution_count": 5,
   "metadata": {},
   "outputs": [
    {
     "data": {
      "text/plain": [
       "([<matplotlib.axis.XTick at 0x1a15c1d210>,\n",
       "  <matplotlib.axis.XTick at 0x1a15bfa890>,\n",
       "  <matplotlib.axis.XTick at 0x1a15bfa190>,\n",
       "  <matplotlib.axis.XTick at 0x1a15cb3990>,\n",
       "  <matplotlib.axis.XTick at 0x1a15cda650>,\n",
       "  <matplotlib.axis.XTick at 0x1a15cdac90>,\n",
       "  <matplotlib.axis.XTick at 0x1a15ce0350>,\n",
       "  <matplotlib.axis.XTick at 0x1a15cda250>,\n",
       "  <matplotlib.axis.XTick at 0x1a15ce0110>,\n",
       "  <matplotlib.axis.XTick at 0x1a15ce0e50>],\n",
       " <a list of 10 Text xticklabel objects>)"
      ]
     },
     "execution_count": 5,
     "metadata": {},
     "output_type": "execute_result"
    },
    {
     "data": {
      "image/png": "[encoded data removed]",
      "text/plain": [
       "<Figure size 432x288 with 1 Axes>"
      ]
     },
     "metadata": {
      "needs_background": "light"
     },
     "output_type": "display_data"
    }
   ],
   "source": [
    "# Generate a bar plot showing number of data points for each treatment regimen using pyplot\n",
    "x_axis = np.arange(len(merged_summary[\"Entries\"]))\n",
    "plt.bar(x_axis, merged_summary[\"Entries\"])\n",
    "tick_locations = [value for value in x_axis]\n",
    "plt.xticks(tick_locations, merged_summary.index, rotation=90)"
   ]
  },
  {
   "cell_type": "code",
   "execution_count": null,
   "metadata": {},
   "outputs": [],
   "source": []
  },
  {
   "cell_type": "markdown",
   "metadata": {},
   "source": [
    "## Pie plots"
   ]
  },
  {
   "cell_type": "code",
   "execution_count": 6,
   "metadata": {},
   "outputs": [
    {
     "data": {
      "text/html": [
       "<div>\n",
       "<style scoped>\n",
       "    .dataframe tbody tr th:only-of-type {\n",
       "        vertical-align: middle;\n",
       "    }\n",
       "\n",
       "    .dataframe tbody tr th {\n",
       "        vertical-align: top;\n",
       "    }\n",
       "\n",
       "    .dataframe thead th {\n",
       "        text-align: right;\n",
       "    }\n",
       "</style>\n",
       "<table border=\"1\" class=\"dataframe\">\n",
       "  <thead>\n",
       "    <tr style=\"text-align: right;\">\n",
       "      <th></th>\n",
       "      <th>Count</th>\n",
       "    </tr>\n",
       "    <tr>\n",
       "      <th>Sex</th>\n",
       "      <th></th>\n",
       "    </tr>\n",
       "  </thead>\n",
       "  <tbody>\n",
       "    <tr>\n",
       "      <td>Female</td>\n",
       "      <td>124</td>\n",
       "    </tr>\n",
       "    <tr>\n",
       "      <td>Male</td>\n",
       "      <td>125</td>\n",
       "    </tr>\n",
       "  </tbody>\n",
       "</table>\n",
       "</div>"
      ],
      "text/plain": [
       "        Count\n",
       "Sex          \n",
       "Female    124\n",
       "Male      125"
      ]
     },
     "execution_count": 6,
     "metadata": {},
     "output_type": "execute_result"
    }
   ],
   "source": [
    "# Generate a pie plot showing the distribution of female versus male mice using pandas\n",
    "drop_duplicates = merged_df.drop_duplicates(\"Mouse ID\")\n",
    "gender_distribution = drop_duplicates.groupby('Sex').count()\n",
    "gender_distribution = gender_distribution[['Mouse ID']]\n",
    "gender_distribution = gender_distribution.rename(columns={\"Mouse ID\": \"Count\"})\n",
    "gender_distribution"
   ]
  },
  {
   "cell_type": "code",
   "execution_count": 7,
   "metadata": {},
   "outputs": [
    {
     "data": {
      "image/png": "[encoded data removed]",
      "text/plain": [
       "<Figure size 360x360 with 1 Axes>"
      ]
     },
     "metadata": {},
     "output_type": "display_data"
    }
   ],
   "source": [
    "# Generate a pie plot showing the distribution of female versus male mice using pyplot\n",
    "pie_plot = pd.DataFrame({'Gender': gender_distribution['Count']}, index= gender_distribution.index)\n",
    "pie_plot_gender = pie_plot.plot.pie(y='Gender', figsize=(5, 5))"
   ]
  },
  {
   "cell_type": "markdown",
   "metadata": {},
   "source": [
    "## Quartiles, outliers and boxplots"
   ]
  },
  {
   "cell_type": "code",
   "execution_count": 8,
   "metadata": {},
   "outputs": [
    {
     "data": {
      "text/html": [
       "<div>\n",
       "<style scoped>\n",
       "    .dataframe tbody tr th:only-of-type {\n",
       "        vertical-align: middle;\n",
       "    }\n",
       "\n",
       "    .dataframe tbody tr th {\n",
       "        vertical-align: top;\n",
       "    }\n",
       "\n",
       "    .dataframe thead th {\n",
       "        text-align: right;\n",
       "    }\n",
       "</style>\n",
       "<table border=\"1\" class=\"dataframe\">\n",
       "  <thead>\n",
       "    <tr style=\"text-align: right;\">\n",
       "      <th></th>\n",
       "      <th>Age_months</th>\n",
       "      <th>Weight (g)</th>\n",
       "      <th>Timepoint</th>\n",
       "      <th>Tumor Volume (mm3)</th>\n",
       "      <th>Metastatic Sites</th>\n",
       "    </tr>\n",
       "    <tr>\n",
       "      <th>Drug Regimen</th>\n",
       "      <th></th>\n",
       "      <th></th>\n",
       "      <th></th>\n",
       "      <th></th>\n",
       "      <th></th>\n",
       "    </tr>\n",
       "  </thead>\n",
       "  <tbody>\n",
       "    <tr>\n",
       "      <td>Ramicane</td>\n",
       "      <td>10.840</td>\n",
       "      <td>20.000</td>\n",
       "      <td>40.600000</td>\n",
       "      <td>36.191390</td>\n",
       "      <td>1.200000</td>\n",
       "    </tr>\n",
       "    <tr>\n",
       "      <td>Capomulin</td>\n",
       "      <td>14.040</td>\n",
       "      <td>20.120</td>\n",
       "      <td>41.000000</td>\n",
       "      <td>36.667568</td>\n",
       "      <td>1.280000</td>\n",
       "    </tr>\n",
       "    <tr>\n",
       "      <td>Propriva</td>\n",
       "      <td>9.880</td>\n",
       "      <td>27.240</td>\n",
       "      <td>26.200000</td>\n",
       "      <td>56.736964</td>\n",
       "      <td>1.560000</td>\n",
       "    </tr>\n",
       "    <tr>\n",
       "      <td>Ceftamin</td>\n",
       "      <td>12.800</td>\n",
       "      <td>27.400</td>\n",
       "      <td>30.600000</td>\n",
       "      <td>57.753977</td>\n",
       "      <td>1.720000</td>\n",
       "    </tr>\n",
       "    <tr>\n",
       "      <td>Infubinol</td>\n",
       "      <td>16.400</td>\n",
       "      <td>27.320</td>\n",
       "      <td>30.600000</td>\n",
       "      <td>58.178246</td>\n",
       "      <td>1.600000</td>\n",
       "    </tr>\n",
       "    <tr>\n",
       "      <td>Zoniferol</td>\n",
       "      <td>12.600</td>\n",
       "      <td>27.920</td>\n",
       "      <td>31.400000</td>\n",
       "      <td>59.181258</td>\n",
       "      <td>2.000000</td>\n",
       "    </tr>\n",
       "    <tr>\n",
       "      <td>Placebo</td>\n",
       "      <td>10.680</td>\n",
       "      <td>28.040</td>\n",
       "      <td>31.200000</td>\n",
       "      <td>60.508414</td>\n",
       "      <td>2.080000</td>\n",
       "    </tr>\n",
       "    <tr>\n",
       "      <td>Stelasyn</td>\n",
       "      <td>13.125</td>\n",
       "      <td>27.875</td>\n",
       "      <td>32.708333</td>\n",
       "      <td>61.001707</td>\n",
       "      <td>1.458333</td>\n",
       "    </tr>\n",
       "    <tr>\n",
       "      <td>Naftisol</td>\n",
       "      <td>12.240</td>\n",
       "      <td>27.240</td>\n",
       "      <td>32.200000</td>\n",
       "      <td>61.205757</td>\n",
       "      <td>2.000000</td>\n",
       "    </tr>\n",
       "    <tr>\n",
       "      <td>Ketapril</td>\n",
       "      <td>14.720</td>\n",
       "      <td>28.080</td>\n",
       "      <td>32.600000</td>\n",
       "      <td>62.806191</td>\n",
       "      <td>1.920000</td>\n",
       "    </tr>\n",
       "  </tbody>\n",
       "</table>\n",
       "</div>"
      ],
      "text/plain": [
       "              Age_months  Weight (g)  Timepoint  Tumor Volume (mm3)  \\\n",
       "Drug Regimen                                                          \n",
       "Ramicane          10.840      20.000  40.600000           36.191390   \n",
       "Capomulin         14.040      20.120  41.000000           36.667568   \n",
       "Propriva           9.880      27.240  26.200000           56.736964   \n",
       "Ceftamin          12.800      27.400  30.600000           57.753977   \n",
       "Infubinol         16.400      27.320  30.600000           58.178246   \n",
       "Zoniferol         12.600      27.920  31.400000           59.181258   \n",
       "Placebo           10.680      28.040  31.200000           60.508414   \n",
       "Stelasyn          13.125      27.875  32.708333           61.001707   \n",
       "Naftisol          12.240      27.240  32.200000           61.205757   \n",
       "Ketapril          14.720      28.080  32.600000           62.806191   \n",
       "\n",
       "              Metastatic Sites  \n",
       "Drug Regimen                    \n",
       "Ramicane              1.200000  \n",
       "Capomulin             1.280000  \n",
       "Propriva              1.560000  \n",
       "Ceftamin              1.720000  \n",
       "Infubinol             1.600000  \n",
       "Zoniferol             2.000000  \n",
       "Placebo               2.080000  \n",
       "Stelasyn              1.458333  \n",
       "Naftisol              2.000000  \n",
       "Ketapril              1.920000  "
      ]
     },
     "execution_count": 8,
     "metadata": {},
     "output_type": "execute_result"
    }
   ],
   "source": [
    "# Calculate the final tumor volume of each mouse across four of the most promising treatment regimens\n",
    "time_status = merged_df.sort_values(by='Timepoint', ascending=False)\n",
    "drop_duplicates_time = time_status.drop_duplicates(\"Mouse ID\")\n",
    "drop_duplicates_time.groupby(\"Drug Regimen\").mean().sort_values(by='Tumor Volume (mm3)')"
   ]
  },
  {
   "cell_type": "code",
   "execution_count": 9,
   "metadata": {},
   "outputs": [
    {
     "name": "stdout",
     "output_type": "stream",
     "text": [
      "The most viable options are Ramicane, Capomulin, Propriva, and Ceftamin\n"
     ]
    }
   ],
   "source": [
    "print(\"The most viable options are Ramicane, Capomulin, Propriva, and Ceftamin\")"
   ]
  },
  {
   "cell_type": "code",
   "execution_count": 24,
   "metadata": {},
   "outputs": [
    {
     "name": "stdout",
     "output_type": "stream",
     "text": [
      "Tumor volumes below 5.53 mm3 and above 90.22 mm3 are potential outliers.\n"
     ]
    }
   ],
   "source": [
    "# Calculate the IQR and quantitatively determine if there are any potential outliers\n",
    "viable_df = drop_duplicates_time.loc[(drop_duplicates_time['Drug Regimen'] == 'Ramicane') |\n",
    "                                     (drop_duplicates_time['Drug Regimen'] == 'Capomulin') |\n",
    "                                     (drop_duplicates_time['Drug Regimen'] == 'Propriva') | \n",
    "                                     (drop_duplicates_time['Drug Regimen'] == 'Ceftamin')]\n",
    "\n",
    "viable_df_set_index = viable_df[['Mouse ID', 'Drug Regimen', 'Timepoint', 'Tumor Volume (mm3)']]\n",
    "viable_df_sort = viable_df_set_index.sort_values(by='Tumor Volume (mm3)')\n",
    "\n",
    "quartiles = viable_df_sort['Tumor Volume (mm3)'].quantile([.25,.5,.75])\n",
    "lowerquartiles = quartiles[0.25]\n",
    "upperquartiles = quartiles[0.75]\n",
    "iqr = upperquartiles-lowerquartiles\n",
    "lower_bound = round(lowerquartiles - (1.5*iqr), 2)\n",
    "upper_bound = round(upperquartiles + (1.5*iqr), 2)\n",
    "# lower_bound\n",
    "# upper_bound\n",
    "print(f\"Tumor volumes below {lower_bound} mm3 and above {upper_bound} mm3 are potential outliers.\")\n"
   ]
  },
  {
   "cell_type": "code",
   "execution_count": 32,
   "metadata": {},
   "outputs": [
    {
     "data": {
      "text/plain": [
       "{'whiskers': [<matplotlib.lines.Line2D at 0x1a16568a10>,\n",
       "  <matplotlib.lines.Line2D at 0x1a16574ad0>],\n",
       " 'caps': [<matplotlib.lines.Line2D at 0x1a16574fd0>,\n",
       "  <matplotlib.lines.Line2D at 0x1a1657b510>],\n",
       " 'boxes': [<matplotlib.lines.Line2D at 0x1a165688d0>],\n",
       " 'medians': [<matplotlib.lines.Line2D at 0x1a1657ba50>],\n",
       " 'fliers': [<matplotlib.lines.Line2D at 0x1a1657bf50>],\n",
       " 'means': []}"
      ]
     },
     "execution_count": 32,
     "metadata": {},
     "output_type": "execute_result"
    },
    {
     "data": {
      "image/png": "[encoded data removed]",
      "text/plain": [
       "<Figure size 432x288 with 1 Axes>"
      ]
     },
     "metadata": {
      "needs_background": "light"
     },
     "output_type": "display_data"
    }
   ],
   "source": [
    "#generate a box plot\n",
    "fig1, ax1 = plt.subplots()\n",
    "ax1.set_title('Top 4 drug regiments and Tumor Volume')\n",
    "ax1.set_ylabel('Tumor Volume (mm3)')\n",
    "ax1.boxplot(viable_df_sort['Tumor Volume (mm3)']) "
   ]
  },
  {
   "cell_type": "markdown",
   "metadata": {},
   "source": [
    "## Line and scatter plots"
   ]
  },
  {
   "cell_type": "code",
   "execution_count": 9,
   "metadata": {},
   "outputs": [],
   "source": [
    "# Generate a line plot of time point versus tumor volume for a mouse treated with Capomulin"
   ]
  },
  {
   "cell_type": "code",
   "execution_count": 10,
   "metadata": {},
   "outputs": [],
   "source": [
    "# Generate a scatter plot of mouse weight versus average tumor volume for the Capomulin regimen"
   ]
  },
  {
   "cell_type": "code",
   "execution_count": 11,
   "metadata": {},
   "outputs": [],
   "source": [
    "# Calculate the correlation coefficient and linear regression model for mouse weight and average tumor volume for the Capomulin regimen"
   ]
  },
  {
   "cell_type": "code",
   "execution_count": null,
   "metadata": {},
   "outputs": [],
   "source": []
  }
 ],
 "metadata": {
  "anaconda-cloud": {},
  "kernelspec": {
   "display_name": "Python 3",
   "language": "python",
   "name": "python3"
  },
  "language_info": {
   "codemirror_mode": {
    "name": "ipython",
    "version": 3
   },
   "file_extension": ".py",
   "mimetype": "text/x-python",
   "name": "python",
   "nbconvert_exporter": "python",
   "pygments_lexer": "ipython3",
   "version": "3.7.4"
  }
 },
 "nbformat": 4,
 "nbformat_minor": 2
}
